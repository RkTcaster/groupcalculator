{
 "cells": [
  {
   "cell_type": "code",
   "execution_count": 1,
   "metadata": {},
   "outputs": [],
   "source": [
    "import pandas  as pd \n",
    "from itertools import product"
   ]
  },
  {
   "cell_type": "markdown",
   "metadata": {},
   "source": [
    "Estado actual: \n",
    "* Pandas es muy lento para lo que quiero hacer\n",
    "* Trabajo actual: separar los desempates en: Primero wins, despues rounds, despues mapas (probablemente no se implemente)\n",
    "* Potenciales soluciones: Cambiar la manera de armar la tabla a Numpy (deberia ser lo mas rapido por mucho) Ventajas: velocidad y puedo evaluar por filas los resultados \n",
    "\n",
    "-------------------------------------------------------------------------\n",
    "\n",
    "Arranco casi de 0, problemas con la unicacion de memoria de los objetos y se armo un re quilombo. \n",
    "Intento 2 diseño enfocado tabla final que tengo y estructurar desde ese punto hacia atras. \n",
    "\n"
   ]
  },
  {
   "cell_type": "code",
   "execution_count": 2,
   "metadata": {},
   "outputs": [],
   "source": [
    "#Esto es raro, siento que estoy dando vueltas en circulo con este diccionario creando los objetos y volviendo a usarlos \n",
    "#Lo termino usando con un zip, lo que puede ser peligroso con el orden y las keys\n",
    "teamNameScores = {\n",
    "                \"name\": [\"Kru\",\"Lev\",\"100T\",\"mibr\",\"NRG\",\"EG\",\"FUR\",\"LOUD\", \"2G\",\"GAMERS2\",\"C9\",\"SEN\"],\n",
    "                \"wins\": [6,9,5,1,4,4,3,4,7,00,6,6],\n",
    "                \"loss\":[4,1,5,9,6,6,7,6,3,00,4,4],\n",
    "                \"matchWins\" : [15,19,12,3,10,10,8,11,15,00,13,13],\n",
    "                \"matchLoss\" : [10,4,11,18,13,15,15,14,8,00,13,8],\n",
    "                \"roundWin\":[287,296,255,168,238,241,195,249,249,00,270,249],\n",
    "                \"roundLoss\":[247,204,232,257,237,281,270,275,214,00,276,214]\n",
    "                \n",
    "                  }\n",
    "\n",
    "roundMatches = {\n",
    "                \"week11\" : [[\"Kru\",\"Lev\"], [\"100T\",\"mibr\"],[\"NRG\",\"EG\"], [\"FUR\",\"LOUD\"],[\"2G\",\"GAMERS2\"],[\"C9\",\"SEN\"]],\n",
    "                \"week12\" : [[\"Kru\",\"100T\"], [\"Lev\",\"mibr\"],[\"NRG\",\"FUR\"], [\"EG\",\"LOUD\"],[\"C9\",\"GAMERS2\"],[\"2G\",\"SEN\"]]\n",
    "                }"
   ]
  },
  {
   "cell_type": "code",
   "execution_count": 3,
   "metadata": {},
   "outputs": [],
   "source": [
    "\n",
    "hierarchy_dict = {\n",
    "    team: {\n",
    "        \"wins\": teamNameScores[\"wins\"][i],\n",
    "        \"loss\": teamNameScores[\"loss\"][i],\n",
    "        \"matchWins\": teamNameScores[\"matchWins\"][i],\n",
    "        \"matchLoss\": teamNameScores[\"matchLoss\"][i],\n",
    "        \"roundWin\": teamNameScores[\"roundWin\"][i],\n",
    "        \"roundLoss\": teamNameScores[\"roundLoss\"][i],\n",
    "    }\n",
    "    for i, team in enumerate(teamNameScores[\"name\"])\n",
    "}"
   ]
  },
  {
   "cell_type": "code",
   "execution_count": 4,
   "metadata": {},
   "outputs": [],
   "source": [
    "def run_round(matches, teams, previous_results=None):\n",
    "    if previous_results is None:\n",
    "        previous_results = [\n",
    "            {   \n",
    "                \"UP\": 1,\n",
    "                \"Team\": team,\n",
    "                \"wins\": data[\"wins\"],\n",
    "                \"matchWins\": data[\"matchWins\"],\n",
    "                \"matchLoss\": data[\"matchLoss\"],\n",
    "            }\n",
    "            for team, data in teams.items()\n",
    "        ]\n",
    "\n",
    "    prev_df = pd.DataFrame(previous_results)\n",
    "    grouped_results = prev_df.groupby(\"UP\")\n",
    "\n",
    "    match_outcomes = list(product([0, 1, 2, 3], repeat=len(matches)))\n",
    "    new_results = []\n",
    "\n",
    "    result_mapping = {\n",
    "        0: (0, 2),  # pierde 0-2\n",
    "        1: (1, 2),  # pierde 1-2\n",
    "        2: (2, 1),  # gana 2-1\n",
    "        3: (2, 0),  # gana 2-0\n",
    "    }\n",
    "\n",
    "    for up, group in grouped_results:\n",
    "\n",
    "        simul_teams = {\n",
    "            team_data[\"Team\"]: {\n",
    "                \"wins\": team_data[\"wins\"],\n",
    "                \"matchWins\": team_data[\"matchWins\"],\n",
    "                \"matchLoss\": team_data[\"matchLoss\"],\n",
    "            }\n",
    "            for _, team_data in group.iterrows()\n",
    "        }\n",
    "\n",
    "        for combination_index, combination in enumerate(match_outcomes, start=1):\n",
    "\n",
    "            temp_teams = {team: data.copy() for team, data in simul_teams.items()}\n",
    "\n",
    "            for match_index, result in enumerate(combination):\n",
    "                team1, team2 = matches[match_index]\n",
    "                match_wins, match_loss = result_mapping[result]\n",
    "\n",
    "                if result in [2, 3]:\n",
    "                    temp_teams[team1][\"wins\"] += 1\n",
    "                    temp_teams[team1][\"matchWins\"] += match_wins\n",
    "                    temp_teams[team1][\"matchLoss\"] += match_loss\n",
    "                    temp_teams[team2][\"matchWins\"] += match_loss\n",
    "                    temp_teams[team2][\"matchLoss\"] += match_wins\n",
    "                else:\n",
    "                    temp_teams[team2][\"wins\"] += 1\n",
    "                    temp_teams[team2][\"matchWins\"] += match_wins\n",
    "                    temp_teams[team2][\"matchLoss\"] += match_loss\n",
    "                    temp_teams[team1][\"matchWins\"] += match_loss\n",
    "                    temp_teams[team1][\"matchLoss\"] += match_wins\n",
    "\n",
    "\n",
    "            new_up = f\"{up}-{combination_index}\"\n",
    "\n",
    "            for team, data in temp_teams.items():\n",
    "                new_results.append(\n",
    "                    {\n",
    "                        \"UP\": new_up,\n",
    "                        \"Team\": team,\n",
    "                        \"wins\": data[\"wins\"],\n",
    "                        \"matchWins\": data[\"matchWins\"],\n",
    "                        \"matchLoss\": data[\"matchLoss\"],\n",
    "                    }\n",
    "                )\n",
    "\n",
    "    return new_results\n"
   ]
  },
  {
   "cell_type": "code",
   "execution_count": 5,
   "metadata": {},
   "outputs": [],
   "source": [
    "teams = hierarchy_dict\n",
    "matches = ((\"Kru\",\"Lev\"), (\"100T\",\"mibr\"),(\"NRG\",\"EG\"), (\"FUR\",\"LOUD\"),(\"2G\",\"GAMERS2\"),(\"C9\",\"SEN\"))\n",
    "matches2 = [[\"Kru\",\"100T\"], [\"Lev\",\"mibr\"],[\"NRG\",\"FUR\"], [\"EG\",\"LOUD\"],[\"C9\",\"GAMERS2\"],[\"2G\",\"SEN\"]]\n"
   ]
  },
  {
   "cell_type": "code",
   "execution_count": 6,
   "metadata": {},
   "outputs": [],
   "source": [
    "match1_results = run_round(matches, teams)"
   ]
  },
  {
   "cell_type": "code",
   "execution_count": 8,
   "metadata": {},
   "outputs": [
    {
     "data": {
      "text/plain": [
       "4096.0"
      ]
     },
     "execution_count": 8,
     "metadata": {},
     "output_type": "execute_result"
    }
   ],
   "source": [
    "len(match1_results)/12"
   ]
  },
  {
   "cell_type": "code",
   "execution_count": 47,
   "metadata": {},
   "outputs": [],
   "source": [
    "round1_df = pd.DataFrame(match1_results)"
   ]
  },
  {
   "cell_type": "code",
   "execution_count": 9,
   "metadata": {},
   "outputs": [],
   "source": [
    "match2_results = run_round(matches, teams, match1_results)"
   ]
  },
  {
   "cell_type": "code",
   "execution_count": 11,
   "metadata": {},
   "outputs": [
    {
     "data": {
      "text/plain": [
       "4096.0"
      ]
     },
     "execution_count": 11,
     "metadata": {},
     "output_type": "execute_result"
    }
   ],
   "source": [
    "len(match2_results)/12"
   ]
  }
 ],
 "metadata": {
  "kernelspec": {
   "display_name": "base",
   "language": "python",
   "name": "python3"
  },
  "language_info": {
   "codemirror_mode": {
    "name": "ipython",
    "version": 3
   },
   "file_extension": ".py",
   "mimetype": "text/x-python",
   "name": "python",
   "nbconvert_exporter": "python",
   "pygments_lexer": "ipython3",
   "version": "3.11.4"
  }
 },
 "nbformat": 4,
 "nbformat_minor": 2
}
